{
  "nbformat": 4,
  "nbformat_minor": 0,
  "metadata": {
    "colab": {
      "name": "Final_LSTM(7/7/2022).ipynb",
      "provenance": [],
      "collapsed_sections": []
    },
    "kernelspec": {
      "name": "python3",
      "display_name": "Python 3"
    },
    "language_info": {
      "name": "python"
    }
  },
  "cells": [
    {
      "cell_type": "code",
      "execution_count": 50,
      "metadata": {
        "id": "gEEL5o8Dd2NR"
      },
      "outputs": [],
      "source": [
        "import numpy as np\n",
        "import pandas as pd\n",
        "import matplotlib.pyplot as plt\n",
        "import re\n",
        "from keras.preprocessing.text import Tokenizer\n",
        "from keras.preprocessing.sequence import pad_sequences\n",
        "from keras.models import Sequential\n",
        "#from keras.layers import Dense, Embedding, LSTM, SimpleRNN, SpatialDropout1D\n",
        "from keras.layers import Dense, Activation, Flatten\n",
        "from keras.layers import Dropout\n",
        "from sklearn.model_selection import train_test_split\n",
        "from sklearn import metrics\n",
        "from keras.wrappers.scikit_learn import KerasClassifier\n",
        "from keras.callbacks import ModelCheckpoint, EarlyStopping\n",
        "from keras.layers import Embedding, LSTM, Dense, SpatialDropout1D, Bidirectional, Conv1D, GlobalMaxPool1D"
      ]
    },
    {
      "cell_type": "code",
      "source": [
        "data = pd.read_csv(\"/content/FinalDatasetmerged (1).csv\")\n",
        "data.head(2)"
      ],
      "metadata": {
        "colab": {
          "base_uri": "https://localhost:8080/",
          "height": 112
        },
        "id": "zLPHg9W-ePhU",
        "outputId": "4a90c5a1-4051-4557-ce55-f981fb04f349"
      },
      "execution_count": 51,
      "outputs": [
        {
          "output_type": "execute_result",
          "data": {
            "text/plain": [
              "                                             content  sentiment_labels\n",
              "0  feature search hotspot location able function ...              -1.0\n",
              "1                                               good               2.0"
            ],
            "text/html": [
              "\n",
              "  <div id=\"df-d680fa4b-5943-48f2-9d93-4a77595857b0\">\n",
              "    <div class=\"colab-df-container\">\n",
              "      <div>\n",
              "<style scoped>\n",
              "    .dataframe tbody tr th:only-of-type {\n",
              "        vertical-align: middle;\n",
              "    }\n",
              "\n",
              "    .dataframe tbody tr th {\n",
              "        vertical-align: top;\n",
              "    }\n",
              "\n",
              "    .dataframe thead th {\n",
              "        text-align: right;\n",
              "    }\n",
              "</style>\n",
              "<table border=\"1\" class=\"dataframe\">\n",
              "  <thead>\n",
              "    <tr style=\"text-align: right;\">\n",
              "      <th></th>\n",
              "      <th>content</th>\n",
              "      <th>sentiment_labels</th>\n",
              "    </tr>\n",
              "  </thead>\n",
              "  <tbody>\n",
              "    <tr>\n",
              "      <th>0</th>\n",
              "      <td>feature search hotspot location able function ...</td>\n",
              "      <td>-1.0</td>\n",
              "    </tr>\n",
              "    <tr>\n",
              "      <th>1</th>\n",
              "      <td>good</td>\n",
              "      <td>2.0</td>\n",
              "    </tr>\n",
              "  </tbody>\n",
              "</table>\n",
              "</div>\n",
              "      <button class=\"colab-df-convert\" onclick=\"convertToInteractive('df-d680fa4b-5943-48f2-9d93-4a77595857b0')\"\n",
              "              title=\"Convert this dataframe to an interactive table.\"\n",
              "              style=\"display:none;\">\n",
              "        \n",
              "  <svg xmlns=\"http://www.w3.org/2000/svg\" height=\"24px\"viewBox=\"0 0 24 24\"\n",
              "       width=\"24px\">\n",
              "    <path d=\"M0 0h24v24H0V0z\" fill=\"none\"/>\n",
              "    <path d=\"M18.56 5.44l.94 2.06.94-2.06 2.06-.94-2.06-.94-.94-2.06-.94 2.06-2.06.94zm-11 1L8.5 8.5l.94-2.06 2.06-.94-2.06-.94L8.5 2.5l-.94 2.06-2.06.94zm10 10l.94 2.06.94-2.06 2.06-.94-2.06-.94-.94-2.06-.94 2.06-2.06.94z\"/><path d=\"M17.41 7.96l-1.37-1.37c-.4-.4-.92-.59-1.43-.59-.52 0-1.04.2-1.43.59L10.3 9.45l-7.72 7.72c-.78.78-.78 2.05 0 2.83L4 21.41c.39.39.9.59 1.41.59.51 0 1.02-.2 1.41-.59l7.78-7.78 2.81-2.81c.8-.78.8-2.07 0-2.86zM5.41 20L4 18.59l7.72-7.72 1.47 1.35L5.41 20z\"/>\n",
              "  </svg>\n",
              "      </button>\n",
              "      \n",
              "  <style>\n",
              "    .colab-df-container {\n",
              "      display:flex;\n",
              "      flex-wrap:wrap;\n",
              "      gap: 12px;\n",
              "    }\n",
              "\n",
              "    .colab-df-convert {\n",
              "      background-color: #E8F0FE;\n",
              "      border: none;\n",
              "      border-radius: 50%;\n",
              "      cursor: pointer;\n",
              "      display: none;\n",
              "      fill: #1967D2;\n",
              "      height: 32px;\n",
              "      padding: 0 0 0 0;\n",
              "      width: 32px;\n",
              "    }\n",
              "\n",
              "    .colab-df-convert:hover {\n",
              "      background-color: #E2EBFA;\n",
              "      box-shadow: 0px 1px 2px rgba(60, 64, 67, 0.3), 0px 1px 3px 1px rgba(60, 64, 67, 0.15);\n",
              "      fill: #174EA6;\n",
              "    }\n",
              "\n",
              "    [theme=dark] .colab-df-convert {\n",
              "      background-color: #3B4455;\n",
              "      fill: #D2E3FC;\n",
              "    }\n",
              "\n",
              "    [theme=dark] .colab-df-convert:hover {\n",
              "      background-color: #434B5C;\n",
              "      box-shadow: 0px 1px 3px 1px rgba(0, 0, 0, 0.15);\n",
              "      filter: drop-shadow(0px 1px 2px rgba(0, 0, 0, 0.3));\n",
              "      fill: #FFFFFF;\n",
              "    }\n",
              "  </style>\n",
              "\n",
              "      <script>\n",
              "        const buttonEl =\n",
              "          document.querySelector('#df-d680fa4b-5943-48f2-9d93-4a77595857b0 button.colab-df-convert');\n",
              "        buttonEl.style.display =\n",
              "          google.colab.kernel.accessAllowed ? 'block' : 'none';\n",
              "\n",
              "        async function convertToInteractive(key) {\n",
              "          const element = document.querySelector('#df-d680fa4b-5943-48f2-9d93-4a77595857b0');\n",
              "          const dataTable =\n",
              "            await google.colab.kernel.invokeFunction('convertToInteractive',\n",
              "                                                     [key], {});\n",
              "          if (!dataTable) return;\n",
              "\n",
              "          const docLinkHtml = 'Like what you see? Visit the ' +\n",
              "            '<a target=\"_blank\" href=https://colab.research.google.com/notebooks/data_table.ipynb>data table notebook</a>'\n",
              "            + ' to learn more about interactive tables.';\n",
              "          element.innerHTML = '';\n",
              "          dataTable['output_type'] = 'display_data';\n",
              "          await google.colab.output.renderOutput(dataTable, element);\n",
              "          const docLink = document.createElement('div');\n",
              "          docLink.innerHTML = docLinkHtml;\n",
              "          element.appendChild(docLink);\n",
              "        }\n",
              "      </script>\n",
              "    </div>\n",
              "  </div>\n",
              "  "
            ]
          },
          "metadata": {},
          "execution_count": 51
        }
      ]
    },
    {
      "cell_type": "code",
      "source": [
        "data=data.dropna()\n",
        "data.shape"
      ],
      "metadata": {
        "colab": {
          "base_uri": "https://localhost:8080/"
        },
        "id": "8aW7MSA-eYSd",
        "outputId": "bdbcdc09-8f4a-4a3d-ae2f-4f37ab0966a5"
      },
      "execution_count": 52,
      "outputs": [
        {
          "output_type": "execute_result",
          "data": {
            "text/plain": [
              "(32183, 2)"
            ]
          },
          "metadata": {},
          "execution_count": 52
        }
      ]
    },
    {
      "cell_type": "code",
      "source": [
        "!pip install keras.utils "
      ],
      "metadata": {
        "colab": {
          "base_uri": "https://localhost:8080/"
        },
        "id": "eYaCrrpYgJih",
        "outputId": "ec1184ae-fc9d-4ed3-caaa-30d6fcd30aff"
      },
      "execution_count": 53,
      "outputs": [
        {
          "output_type": "stream",
          "name": "stdout",
          "text": [
            "Looking in indexes: https://pypi.org/simple, https://us-python.pkg.dev/colab-wheels/public/simple/\n",
            "Requirement already satisfied: keras.utils in /usr/local/lib/python3.7/dist-packages (1.0.13)\n",
            "Requirement already satisfied: Keras>=2.1.5 in /usr/local/lib/python3.7/dist-packages (from keras.utils) (2.8.0)\n"
          ]
        }
      ]
    },
    {
      "cell_type": "code",
      "source": [
        "data[\"sentiment_labels\"].replace({-1: 0}, inplace=True)\n",
        "data['sentiment_labels'].unique()"
      ],
      "metadata": {
        "colab": {
          "base_uri": "https://localhost:8080/"
        },
        "id": "Q10QkttegNKW",
        "outputId": "a71984df-2e46-4d45-f6d7-0b1810994801"
      },
      "execution_count": 54,
      "outputs": [
        {
          "output_type": "execute_result",
          "data": {
            "text/plain": [
              "array([0., 2., 1.])"
            ]
          },
          "metadata": {},
          "execution_count": 54
        }
      ]
    },
    {
      "cell_type": "code",
      "source": [
        "from tensorflow.keras.utils import to_categorical\n",
        "labels = to_categorical(data['sentiment_labels'], num_classes=3)\n",
        "labels.shape\n",
        "#labels = data['label'].values\n",
        "#labels"
      ],
      "metadata": {
        "colab": {
          "base_uri": "https://localhost:8080/"
        },
        "id": "qybAUBB2gP4e",
        "outputId": "bc97aa94-2d49-4e47-f654-6e1dd94ccf69"
      },
      "execution_count": 55,
      "outputs": [
        {
          "output_type": "execute_result",
          "data": {
            "text/plain": [
              "(32183, 3)"
            ]
          },
          "metadata": {},
          "execution_count": 55
        }
      ]
    },
    {
      "cell_type": "code",
      "source": [
        "max_features = 10000 #Max Num Words\n",
        "max_len = 300 #Max Input Length #100\n",
        "token = Tokenizer(num_words=max_features)\n",
        "token.fit_on_texts(data['content'].values)\n",
        "sequences = token.texts_to_sequences(data['content'].values)\n",
        "X = pad_sequences(sequences, maxlen=max_len)#.reshape(-1,1)\n",
        "word_index = token.word_index\n",
        "print('Found %s unique tokens.' % len(word_index))"
      ],
      "metadata": {
        "colab": {
          "base_uri": "https://localhost:8080/"
        },
        "id": "wtfmbambgSe3",
        "outputId": "cf5224b0-82aa-4dd1-a540-b2c1aff7433f"
      },
      "execution_count": 56,
      "outputs": [
        {
          "output_type": "stream",
          "name": "stdout",
          "text": [
            "Found 13961 unique tokens.\n"
          ]
        }
      ]
    },
    {
      "cell_type": "code",
      "source": [
        "y = labels#.reshape(-1,1)\n",
        "y.shape,X.shape"
      ],
      "metadata": {
        "colab": {
          "base_uri": "https://localhost:8080/"
        },
        "id": "zezseWP_gVH8",
        "outputId": "cb06a4d1-0f25-4f29-e9e1-c68d2d0fd1a3"
      },
      "execution_count": 57,
      "outputs": [
        {
          "output_type": "execute_result",
          "data": {
            "text/plain": [
              "((32183, 3), (32183, 300))"
            ]
          },
          "metadata": {},
          "execution_count": 57
        }
      ]
    },
    {
      "cell_type": "code",
      "source": [
        "X_train, X_test, y_train, y_test = train_test_split(X,y, test_size=0.20)"
      ],
      "metadata": {
        "id": "UrF0m8sfgY8I"
      },
      "execution_count": 58,
      "outputs": []
    },
    {
      "cell_type": "markdown",
      "source": [
        "tuning_results.best_params_:-\n",
        "{'batch_size': 128,\n",
        " 'embed_dim': 100,\n",
        " 'epochs': 5,\n",
        " 'lstm_dropout': 0.2,\n",
        " 'optimizer': 'adam',\n",
        " 'spatial_dropout': 0.3}"
      ],
      "metadata": {
        "id": "emUDUXQqgqLv"
      }
    },
    {
      "cell_type": "code",
      "source": [
        "ls_model = Sequential()\n",
        "ls_model.add(Embedding(max_features, 100, input_length = X.shape[1]))\n",
        "#ls_model.add(SpatialDropout1D(spatial_dropout))\n",
        "ls_model.add((LSTM(100, dropout=0.2, recurrent_dropout=0.2,return_sequences=True)))\n",
        "ls_model.add(Flatten())\n",
        "ls_model.add(Dense(3, activation='softmax'))# Dense layers improve overall accuracy and 5–10 units or nodes per layer is a good base.\n",
        "ls_model.compile(loss='categorical_crossentropy', optimizer='adam', metrics=['acc'])\n",
        "ls_model.summary()"
      ],
      "metadata": {
        "colab": {
          "base_uri": "https://localhost:8080/"
        },
        "id": "W54R8eBrgbpl",
        "outputId": "26b91f6e-97e8-4953-8cb8-69c0a1fa043f"
      },
      "execution_count": 59,
      "outputs": [
        {
          "output_type": "stream",
          "name": "stdout",
          "text": [
            "Model: \"sequential_2\"\n",
            "_________________________________________________________________\n",
            " Layer (type)                Output Shape              Param #   \n",
            "=================================================================\n",
            " embedding_2 (Embedding)     (None, 300, 100)          1000000   \n",
            "                                                                 \n",
            " lstm_2 (LSTM)               (None, 300, 100)          80400     \n",
            "                                                                 \n",
            " flatten_2 (Flatten)         (None, 30000)             0         \n",
            "                                                                 \n",
            " dense_2 (Dense)             (None, 3)                 90003     \n",
            "                                                                 \n",
            "=================================================================\n",
            "Total params: 1,170,403\n",
            "Trainable params: 1,170,403\n",
            "Non-trainable params: 0\n",
            "_________________________________________________________________\n"
          ]
        }
      ]
    },
    {
      "cell_type": "markdown",
      "source": [
        "What is early stopping mode?\n",
        "mode: One of {\"auto\", \"min\", \"max\"} . In min mode, training will stop when the quantity monitored has stopped decreasing; in \"max\" mode it will stop when the quantity monitored has stopped increasing; in \"auto\" mode, the direction is automatically inferred from the name of the monitored quantity."
      ],
      "metadata": {
        "id": "Vc8cLh3vv9w6"
      }
    },
    {
      "cell_type": "code",
      "source": [
        "#batch_size = 128     #130#256#64\n",
        "#ms_history = ls_model.fit(X_train, y_train,epochs=10, batch_size=batch_size,verbose = 2)\n",
        "from tensorflow.keras.callbacks import ModelCheckpoint, EarlyStopping\n",
        "# ls_model.fit(X_train, y_train, epochs=7, batch_size=128, class_weight=None,\n",
        "#                 callbacks= [ModelCheckpoint('lstm_model.hyp', monitor='loss', #lstm_model.hyp for 10epoch\n",
        "#                                             verbose=1, save_best_only=True)], \n",
        "#                 verbose=2)\n",
        "earlyStop=EarlyStopping(monitor=\"val_loss\",verbose=2,mode='max',patience=3)\n",
        "history=ls_model.fit(X_train,y_train,epochs=7,batch_size=128,validation_data=(X_test,y_test) ,verbose=2,callbacks=[earlyStop])"
      ],
      "metadata": {
        "colab": {
          "base_uri": "https://localhost:8080/"
        },
        "id": "csdXIw5LhD1z",
        "outputId": "6c3ab188-619a-4a7c-a272-e2d1269c2f21"
      },
      "execution_count": 60,
      "outputs": [
        {
          "output_type": "stream",
          "name": "stdout",
          "text": [
            "Epoch 1/7\n",
            "202/202 - 317s - loss: 0.5454 - acc: 0.7777 - val_loss: 0.2443 - val_acc: 0.9236 - 317s/epoch - 2s/step\n",
            "Epoch 2/7\n",
            "202/202 - 279s - loss: 0.1966 - acc: 0.9366 - val_loss: 0.2246 - val_acc: 0.9253 - 279s/epoch - 1s/step\n",
            "Epoch 3/7\n",
            "202/202 - 277s - loss: 0.1432 - acc: 0.9546 - val_loss: 0.2250 - val_acc: 0.9279 - 277s/epoch - 1s/step\n",
            "Epoch 4/7\n",
            "202/202 - 280s - loss: 0.1154 - acc: 0.9635 - val_loss: 0.2393 - val_acc: 0.9318 - 280s/epoch - 1s/step\n",
            "Epoch 4: early stopping\n"
          ]
        }
      ]
    },
    {
      "cell_type": "code",
      "source": [
        "loss, accuracy = ls_model.evaluate(X_test, y_test)\n",
        "print(\"loss\", loss)\n",
        "print(\"accuracy\", accuracy)"
      ],
      "metadata": {
        "colab": {
          "base_uri": "https://localhost:8080/"
        },
        "id": "LbdhFLmlhegF",
        "outputId": "b088bf75-d9a1-4ffe-9a47-65edc1e7be2e"
      },
      "execution_count": 61,
      "outputs": [
        {
          "output_type": "stream",
          "name": "stdout",
          "text": [
            "202/202 [==============================] - 34s 166ms/step - loss: 0.2393 - acc: 0.9318\n",
            "loss 0.23934710025787354\n",
            "accuracy 0.9318005442619324\n"
          ]
        }
      ]
    },
    {
      "cell_type": "code",
      "source": [
        "# Confusion Matrix\n",
        "from sklearn.metrics import confusion_matrix\n",
        "pred = ls_model.predict(X_test)\n",
        "labels = ['Negative', 'Neutral', 'Positive']\n",
        "y_pred_labels = [labels[x] for x in [np.argmax(x) for x in pred]]\n",
        "y_test_labels = [labels[x] for x in [np.argmax(x) for x in y_test]]\n",
        "confusion = confusion_matrix(y_test_labels, y_pred_labels)\n",
        "confusion_df = pd.DataFrame(confusion,index=[labels], columns=[labels])\n",
        "print(confusion_df)"
      ],
      "metadata": {
        "colab": {
          "base_uri": "https://localhost:8080/"
        },
        "id": "-G-Mff5Ghohx",
        "outputId": "c31282c8-1baa-4e4e-8e4e-a6226fe8c171"
      },
      "execution_count": 85,
      "outputs": [
        {
          "output_type": "stream",
          "name": "stdout",
          "text": [
            "         Negative Neutral Positive\n",
            "Negative     1876      23       95\n",
            "Neutral        55     892      116\n",
            "Positive       64      86     3230\n"
          ]
        }
      ]
    },
    {
      "cell_type": "code",
      "source": [
        "import matplotlib.pyplot as plt\n",
        "import seaborn as sns\n",
        "ax = plt.subplot()\n",
        "sns.heatmap(confusion_df,annot=True, fmt='g',ax=ax)\n",
        "ax.set_xlabel('Predicted labesl')\n",
        "ax.set_ylabel('True labesl')\n",
        "ax.set_title('Confusion Matrix')\n",
        "ax.xaxis.set_ticklabels(['NEGATIVE','NEUTRAL', 'POSITIVE'])\n",
        "ax.yaxis.set_ticklabels(['NEGATIVE','NEUTRAL', 'POSITIVE'])"
      ],
      "metadata": {
        "colab": {
          "base_uri": "https://localhost:8080/",
          "height": 313
        },
        "id": "nU6gnuugAXS4",
        "outputId": "11246147-def9-4de3-f87f-b5377728d76c"
      },
      "execution_count": 84,
      "outputs": [
        {
          "output_type": "execute_result",
          "data": {
            "text/plain": [
              "[Text(0, 0.5, 'NEGATIVE'), Text(0, 1.5, 'NEUTRAL'), Text(0, 2.5, 'POSITIVE')]"
            ]
          },
          "metadata": {},
          "execution_count": 84
        },
        {
          "output_type": "display_data",
          "data": {
            "text/plain": [
              "<Figure size 432x288 with 2 Axes>"
            ],
            "image/png": "[encoded data removed]"
          },
          "metadata": {
            "needs_background": "light"
          }
        }
      ]
    },
    {
      "cell_type": "code",
      "source": [
        "from sklearn import metrics\n",
        "print(metrics.classification_report(y_test_labels,y_pred_labels))"
      ],
      "metadata": {
        "colab": {
          "base_uri": "https://localhost:8080/"
        },
        "id": "Qlshpzo3EAFe",
        "outputId": "f8d57f0f-550d-4cfc-fad4-627af99b8846"
      },
      "execution_count": 83,
      "outputs": [
        {
          "output_type": "stream",
          "name": "stdout",
          "text": [
            "              precision    recall  f1-score   support\n",
            "\n",
            "    Negative       0.94      0.94      0.94      1994\n",
            "     Neutral       0.89      0.84      0.86      1063\n",
            "    Positive       0.94      0.96      0.95      3380\n",
            "\n",
            "    accuracy                           0.93      6437\n",
            "   macro avg       0.92      0.91      0.92      6437\n",
            "weighted avg       0.93      0.93      0.93      6437\n",
            "\n"
          ]
        }
      ]
    },
    {
      "cell_type": "code",
      "source": [
        "#text = ['i would recommend it if you have no other options']\n",
        "#text = ['Wont let me update or scan most QR codes']\n",
        "text = ['Not using the app is better']\n",
        "text = token.texts_to_sequences(text)\n",
        "text = pad_sequences(text, maxlen=max_len)\n",
        "res = ls_model.predict(text)\n",
        "res"
      ],
      "metadata": {
        "colab": {
          "base_uri": "https://localhost:8080/"
        },
        "id": "xNnkvKlEm28X",
        "outputId": "0169b5e2-ea75-4c76-c331-2612fd67e1f6"
      },
      "execution_count": 65,
      "outputs": [
        {
          "output_type": "execute_result",
          "data": {
            "text/plain": [
              "array([[9.111118e-01, 8.167783e-04, 8.807141e-02]], dtype=float32)"
            ]
          },
          "metadata": {},
          "execution_count": 65
        }
      ]
    },
    {
      "cell_type": "code",
      "source": [
        "if np.argmax(res) == 1:\n",
        "    print(\"neutral Comment\")\n",
        "elif np.argmax(res) == 0:\n",
        "    print(\"Negetive Comment\")\n",
        "elif np.argmax(res) == 2:\n",
        "    print(\"positive Comment\")"
      ],
      "metadata": {
        "colab": {
          "base_uri": "https://localhost:8080/"
        },
        "id": "C60XZcVvm4Ez",
        "outputId": "d1efb31a-7a47-4090-c45a-54bc87711514"
      },
      "execution_count": 66,
      "outputs": [
        {
          "output_type": "stream",
          "name": "stdout",
          "text": [
            "Negetive Comment\n"
          ]
        }
      ]
    },
    {
      "cell_type": "code",
      "source": [
        ""
      ],
      "metadata": {
        "id": "7y2-M2dZm_dg"
      },
      "execution_count": 66,
      "outputs": []
    },
    {
      "cell_type": "code",
      "source": [
        "ls_model.save(\"/content/drive/MyDrive/NZ data/lstm_model.hyp1\")"
      ],
      "metadata": {
        "colab": {
          "base_uri": "https://localhost:8080/"
        },
        "id": "GpG-aqMphswC",
        "outputId": "02220393-8b04-4d8d-d09e-b3c2acd731b2"
      },
      "execution_count": 67,
      "outputs": [
        {
          "output_type": "stream",
          "name": "stdout",
          "text": [
            "INFO:tensorflow:Assets written to: /content/drive/MyDrive/NZ data/lstm_model.hyp1/assets\n"
          ]
        },
        {
          "output_type": "stream",
          "name": "stderr",
          "text": [
            "INFO:tensorflow:Assets written to: /content/drive/MyDrive/NZ data/lstm_model.hyp1/assets\n",
            "WARNING:absl:<keras.layers.recurrent.LSTMCell object at 0x7fd6c2b11d50> has the same name 'LSTMCell' as a built-in Keras object. Consider renaming <class 'keras.layers.recurrent.LSTMCell'> to avoid naming conflicts when loading with `tf.keras.models.load_model`. If renaming is not possible, pass the object in the `custom_objects` parameter of the load function.\n"
          ]
        }
      ]
    },
    {
      "cell_type": "code",
      "source": [
        "from numpy import loadtxt\n",
        "from keras.models import load_model\n",
        "# load model\n",
        "model = load_model(\"/content/drive/MyDrive/NZ data/lstm_model.hyp1\")"
      ],
      "metadata": {
        "id": "Z2O9NPMfnEA5"
      },
      "execution_count": 68,
      "outputs": []
    },
    {
      "cell_type": "code",
      "source": [
        "nzreview = pd.read_csv(\"/content/drive/MyDrive/NZ data/nz_review_clened.csv\")\n",
        "#nzreview = nzreview.drop(['Rating'],axis=1)\n",
        "nzreview.head(2)"
      ],
      "metadata": {
        "colab": {
          "base_uri": "https://localhost:8080/",
          "height": 112
        },
        "id": "CsdGNJ9SnWRe",
        "outputId": "ddb351d8-3df8-4f03-a65b-fe999109e6af"
      },
      "execution_count": 69,
      "outputs": [
        {
          "output_type": "execute_result",
          "data": {
            "text/plain": [
              "   Unnamed: 0  Unnamed: 0.1       Date  \\\n",
              "0           0             0  1/10/2022   \n",
              "1           1             1  1/10/2022   \n",
              "\n",
              "                                     Content  Rating Version  \\\n",
              "0                              Waste of time     1.0   6.0.0   \n",
              "1  Won't let me update or scan most QR codes     1.0   6.0.0   \n",
              "\n",
              "                    final_text  \n",
              "0                   waste time  \n",
              "1  wo let update scan qr codes  "
            ],
            "text/html": [
              "\n",
              "  <div id=\"df-6d07d49f-e271-464a-ad70-56d968131c6d\">\n",
              "    <div class=\"colab-df-container\">\n",
              "      <div>\n",
              "<style scoped>\n",
              "    .dataframe tbody tr th:only-of-type {\n",
              "        vertical-align: middle;\n",
              "    }\n",
              "\n",
              "    .dataframe tbody tr th {\n",
              "        vertical-align: top;\n",
              "    }\n",
              "\n",
              "    .dataframe thead th {\n",
              "        text-align: right;\n",
              "    }\n",
              "</style>\n",
              "<table border=\"1\" class=\"dataframe\">\n",
              "  <thead>\n",
              "    <tr style=\"text-align: right;\">\n",
              "      <th></th>\n",
              "      <th>Unnamed: 0</th>\n",
              "      <th>Unnamed: 0.1</th>\n",
              "      <th>Date</th>\n",
              "      <th>Content</th>\n",
              "      <th>Rating</th>\n",
              "      <th>Version</th>\n",
              "      <th>final_text</th>\n",
              "    </tr>\n",
              "  </thead>\n",
              "  <tbody>\n",
              "    <tr>\n",
              "      <th>0</th>\n",
              "      <td>0</td>\n",
              "      <td>0</td>\n",
              "      <td>1/10/2022</td>\n",
              "      <td>Waste of time</td>\n",
              "      <td>1.0</td>\n",
              "      <td>6.0.0</td>\n",
              "      <td>waste time</td>\n",
              "    </tr>\n",
              "    <tr>\n",
              "      <th>1</th>\n",
              "      <td>1</td>\n",
              "      <td>1</td>\n",
              "      <td>1/10/2022</td>\n",
              "      <td>Won't let me update or scan most QR codes</td>\n",
              "      <td>1.0</td>\n",
              "      <td>6.0.0</td>\n",
              "      <td>wo let update scan qr codes</td>\n",
              "    </tr>\n",
              "  </tbody>\n",
              "</table>\n",
              "</div>\n",
              "      <button class=\"colab-df-convert\" onclick=\"convertToInteractive('df-6d07d49f-e271-464a-ad70-56d968131c6d')\"\n",
              "              title=\"Convert this dataframe to an interactive table.\"\n",
              "              style=\"display:none;\">\n",
              "        \n",
              "  <svg xmlns=\"http://www.w3.org/2000/svg\" height=\"24px\"viewBox=\"0 0 24 24\"\n",
              "       width=\"24px\">\n",
              "    <path d=\"M0 0h24v24H0V0z\" fill=\"none\"/>\n",
              "    <path d=\"M18.56 5.44l.94 2.06.94-2.06 2.06-.94-2.06-.94-.94-2.06-.94 2.06-2.06.94zm-11 1L8.5 8.5l.94-2.06 2.06-.94-2.06-.94L8.5 2.5l-.94 2.06-2.06.94zm10 10l.94 2.06.94-2.06 2.06-.94-2.06-.94-.94-2.06-.94 2.06-2.06.94z\"/><path d=\"M17.41 7.96l-1.37-1.37c-.4-.4-.92-.59-1.43-.59-.52 0-1.04.2-1.43.59L10.3 9.45l-7.72 7.72c-.78.78-.78 2.05 0 2.83L4 21.41c.39.39.9.59 1.41.59.51 0 1.02-.2 1.41-.59l7.78-7.78 2.81-2.81c.8-.78.8-2.07 0-2.86zM5.41 20L4 18.59l7.72-7.72 1.47 1.35L5.41 20z\"/>\n",
              "  </svg>\n",
              "      </button>\n",
              "      \n",
              "  <style>\n",
              "    .colab-df-container {\n",
              "      display:flex;\n",
              "      flex-wrap:wrap;\n",
              "      gap: 12px;\n",
              "    }\n",
              "\n",
              "    .colab-df-convert {\n",
              "      background-color: #E8F0FE;\n",
              "      border: none;\n",
              "      border-radius: 50%;\n",
              "      cursor: pointer;\n",
              "      display: none;\n",
              "      fill: #1967D2;\n",
              "      height: 32px;\n",
              "      padding: 0 0 0 0;\n",
              "      width: 32px;\n",
              "    }\n",
              "\n",
              "    .colab-df-convert:hover {\n",
              "      background-color: #E2EBFA;\n",
              "      box-shadow: 0px 1px 2px rgba(60, 64, 67, 0.3), 0px 1px 3px 1px rgba(60, 64, 67, 0.15);\n",
              "      fill: #174EA6;\n",
              "    }\n",
              "\n",
              "    [theme=dark] .colab-df-convert {\n",
              "      background-color: #3B4455;\n",
              "      fill: #D2E3FC;\n",
              "    }\n",
              "\n",
              "    [theme=dark] .colab-df-convert:hover {\n",
              "      background-color: #434B5C;\n",
              "      box-shadow: 0px 1px 3px 1px rgba(0, 0, 0, 0.15);\n",
              "      filter: drop-shadow(0px 1px 2px rgba(0, 0, 0, 0.3));\n",
              "      fill: #FFFFFF;\n",
              "    }\n",
              "  </style>\n",
              "\n",
              "      <script>\n",
              "        const buttonEl =\n",
              "          document.querySelector('#df-6d07d49f-e271-464a-ad70-56d968131c6d button.colab-df-convert');\n",
              "        buttonEl.style.display =\n",
              "          google.colab.kernel.accessAllowed ? 'block' : 'none';\n",
              "\n",
              "        async function convertToInteractive(key) {\n",
              "          const element = document.querySelector('#df-6d07d49f-e271-464a-ad70-56d968131c6d');\n",
              "          const dataTable =\n",
              "            await google.colab.kernel.invokeFunction('convertToInteractive',\n",
              "                                                     [key], {});\n",
              "          if (!dataTable) return;\n",
              "\n",
              "          const docLinkHtml = 'Like what you see? Visit the ' +\n",
              "            '<a target=\"_blank\" href=https://colab.research.google.com/notebooks/data_table.ipynb>data table notebook</a>'\n",
              "            + ' to learn more about interactive tables.';\n",
              "          element.innerHTML = '';\n",
              "          dataTable['output_type'] = 'display_data';\n",
              "          await google.colab.output.renderOutput(dataTable, element);\n",
              "          const docLink = document.createElement('div');\n",
              "          docLink.innerHTML = docLinkHtml;\n",
              "          element.appendChild(docLink);\n",
              "        }\n",
              "      </script>\n",
              "    </div>\n",
              "  </div>\n",
              "  "
            ]
          },
          "metadata": {},
          "execution_count": 69
        }
      ]
    },
    {
      "cell_type": "code",
      "source": [
        "nzreview.final_text=nzreview.final_text.astype(str)\n",
        "text = list(nzreview['Content'])\n",
        "text = token.texts_to_sequences(text)\n",
        "text = pad_sequences(text, maxlen=max_len)\n",
        "#res = ls_model.predict(text)\n",
        "predict_x=model.predict(text)\n",
        "classes_x=np.argmax(predict_x,axis=1)\n",
        "print(classes_x)"
      ],
      "metadata": {
        "colab": {
          "base_uri": "https://localhost:8080/"
        },
        "id": "Kfh3cCiJnaWA",
        "outputId": "53239a0b-d379-4210-ff13-ea3352f205dd"
      },
      "execution_count": 70,
      "outputs": [
        {
          "output_type": "stream",
          "name": "stdout",
          "text": [
            "[0 0 2 ... 0 2 0]\n"
          ]
        }
      ]
    },
    {
      "cell_type": "code",
      "source": [
        "nzreview['predicted_label'] = classes_x.tolist()\n",
        "nzreview.head()"
      ],
      "metadata": {
        "colab": {
          "base_uri": "https://localhost:8080/",
          "height": 302
        },
        "id": "mf1rAzpZnf2k",
        "outputId": "4be89744-728d-4b72-c7e0-af71e482cd9d"
      },
      "execution_count": 71,
      "outputs": [
        {
          "output_type": "execute_result",
          "data": {
            "text/plain": [
              "   Unnamed: 0  Unnamed: 0.1       Date  \\\n",
              "0           0             0  1/10/2022   \n",
              "1           1             1  1/10/2022   \n",
              "2           2             2  1/10/2022   \n",
              "3           3             3  1/10/2022   \n",
              "4           4             4  1/10/2022   \n",
              "\n",
              "                                             Content  Rating Version  \\\n",
              "0                                      Waste of time     1.0   6.0.0   \n",
              "1          Won't let me update or scan most QR codes     1.0   6.0.0   \n",
              "2                             Does what is expected.     5.0   6.1.0   \n",
              "3  App is super helpful and anyone that says othe...     5.0   6.1.0   \n",
              "4  It's ok. The only thing I find annoying is it ...     4.0   6.1.0   \n",
              "\n",
              "                                          final_text  predicted_label  \n",
              "0                                         waste time                0  \n",
              "1                        wo let update scan qr codes                0  \n",
              "2                                           expected                2  \n",
              "3  app super helpful anyone says otherwise little...                2  \n",
              "4  ok thing find annoying keep record places defi...                0  "
            ],
            "text/html": [
              "\n",
              "  <div id=\"df-88d93a68-fdee-4fef-a731-1d7cdbc44f98\">\n",
              "    <div class=\"colab-df-container\">\n",
              "      <div>\n",
              "<style scoped>\n",
              "    .dataframe tbody tr th:only-of-type {\n",
              "        vertical-align: middle;\n",
              "    }\n",
              "\n",
              "    .dataframe tbody tr th {\n",
              "        vertical-align: top;\n",
              "    }\n",
              "\n",
              "    .dataframe thead th {\n",
              "        text-align: right;\n",
              "    }\n",
              "</style>\n",
              "<table border=\"1\" class=\"dataframe\">\n",
              "  <thead>\n",
              "    <tr style=\"text-align: right;\">\n",
              "      <th></th>\n",
              "      <th>Unnamed: 0</th>\n",
              "      <th>Unnamed: 0.1</th>\n",
              "      <th>Date</th>\n",
              "      <th>Content</th>\n",
              "      <th>Rating</th>\n",
              "      <th>Version</th>\n",
              "      <th>final_text</th>\n",
              "      <th>predicted_label</th>\n",
              "    </tr>\n",
              "  </thead>\n",
              "  <tbody>\n",
              "    <tr>\n",
              "      <th>0</th>\n",
              "      <td>0</td>\n",
              "      <td>0</td>\n",
              "      <td>1/10/2022</td>\n",
              "      <td>Waste of time</td>\n",
              "      <td>1.0</td>\n",
              "      <td>6.0.0</td>\n",
              "      <td>waste time</td>\n",
              "      <td>0</td>\n",
              "    </tr>\n",
              "    <tr>\n",
              "      <th>1</th>\n",
              "      <td>1</td>\n",
              "      <td>1</td>\n",
              "      <td>1/10/2022</td>\n",
              "      <td>Won't let me update or scan most QR codes</td>\n",
              "      <td>1.0</td>\n",
              "      <td>6.0.0</td>\n",
              "      <td>wo let update scan qr codes</td>\n",
              "      <td>0</td>\n",
              "    </tr>\n",
              "    <tr>\n",
              "      <th>2</th>\n",
              "      <td>2</td>\n",
              "      <td>2</td>\n",
              "      <td>1/10/2022</td>\n",
              "      <td>Does what is expected.</td>\n",
              "      <td>5.0</td>\n",
              "      <td>6.1.0</td>\n",
              "      <td>expected</td>\n",
              "      <td>2</td>\n",
              "    </tr>\n",
              "    <tr>\n",
              "      <th>3</th>\n",
              "      <td>3</td>\n",
              "      <td>3</td>\n",
              "      <td>1/10/2022</td>\n",
              "      <td>App is super helpful and anyone that says othe...</td>\n",
              "      <td>5.0</td>\n",
              "      <td>6.1.0</td>\n",
              "      <td>app super helpful anyone says otherwise little...</td>\n",
              "      <td>2</td>\n",
              "    </tr>\n",
              "    <tr>\n",
              "      <th>4</th>\n",
              "      <td>4</td>\n",
              "      <td>4</td>\n",
              "      <td>1/10/2022</td>\n",
              "      <td>It's ok. The only thing I find annoying is it ...</td>\n",
              "      <td>4.0</td>\n",
              "      <td>6.1.0</td>\n",
              "      <td>ok thing find annoying keep record places defi...</td>\n",
              "      <td>0</td>\n",
              "    </tr>\n",
              "  </tbody>\n",
              "</table>\n",
              "</div>\n",
              "      <button class=\"colab-df-convert\" onclick=\"convertToInteractive('df-88d93a68-fdee-4fef-a731-1d7cdbc44f98')\"\n",
              "              title=\"Convert this dataframe to an interactive table.\"\n",
              "              style=\"display:none;\">\n",
              "        \n",
              "  <svg xmlns=\"http://www.w3.org/2000/svg\" height=\"24px\"viewBox=\"0 0 24 24\"\n",
              "       width=\"24px\">\n",
              "    <path d=\"M0 0h24v24H0V0z\" fill=\"none\"/>\n",
              "    <path d=\"M18.56 5.44l.94 2.06.94-2.06 2.06-.94-2.06-.94-.94-2.06-.94 2.06-2.06.94zm-11 1L8.5 8.5l.94-2.06 2.06-.94-2.06-.94L8.5 2.5l-.94 2.06-2.06.94zm10 10l.94 2.06.94-2.06 2.06-.94-2.06-.94-.94-2.06-.94 2.06-2.06.94z\"/><path d=\"M17.41 7.96l-1.37-1.37c-.4-.4-.92-.59-1.43-.59-.52 0-1.04.2-1.43.59L10.3 9.45l-7.72 7.72c-.78.78-.78 2.05 0 2.83L4 21.41c.39.39.9.59 1.41.59.51 0 1.02-.2 1.41-.59l7.78-7.78 2.81-2.81c.8-.78.8-2.07 0-2.86zM5.41 20L4 18.59l7.72-7.72 1.47 1.35L5.41 20z\"/>\n",
              "  </svg>\n",
              "      </button>\n",
              "      \n",
              "  <style>\n",
              "    .colab-df-container {\n",
              "      display:flex;\n",
              "      flex-wrap:wrap;\n",
              "      gap: 12px;\n",
              "    }\n",
              "\n",
              "    .colab-df-convert {\n",
              "      background-color: #E8F0FE;\n",
              "      border: none;\n",
              "      border-radius: 50%;\n",
              "      cursor: pointer;\n",
              "      display: none;\n",
              "      fill: #1967D2;\n",
              "      height: 32px;\n",
              "      padding: 0 0 0 0;\n",
              "      width: 32px;\n",
              "    }\n",
              "\n",
              "    .colab-df-convert:hover {\n",
              "      background-color: #E2EBFA;\n",
              "      box-shadow: 0px 1px 2px rgba(60, 64, 67, 0.3), 0px 1px 3px 1px rgba(60, 64, 67, 0.15);\n",
              "      fill: #174EA6;\n",
              "    }\n",
              "\n",
              "    [theme=dark] .colab-df-convert {\n",
              "      background-color: #3B4455;\n",
              "      fill: #D2E3FC;\n",
              "    }\n",
              "\n",
              "    [theme=dark] .colab-df-convert:hover {\n",
              "      background-color: #434B5C;\n",
              "      box-shadow: 0px 1px 3px 1px rgba(0, 0, 0, 0.15);\n",
              "      filter: drop-shadow(0px 1px 2px rgba(0, 0, 0, 0.3));\n",
              "      fill: #FFFFFF;\n",
              "    }\n",
              "  </style>\n",
              "\n",
              "      <script>\n",
              "        const buttonEl =\n",
              "          document.querySelector('#df-88d93a68-fdee-4fef-a731-1d7cdbc44f98 button.colab-df-convert');\n",
              "        buttonEl.style.display =\n",
              "          google.colab.kernel.accessAllowed ? 'block' : 'none';\n",
              "\n",
              "        async function convertToInteractive(key) {\n",
              "          const element = document.querySelector('#df-88d93a68-fdee-4fef-a731-1d7cdbc44f98');\n",
              "          const dataTable =\n",
              "            await google.colab.kernel.invokeFunction('convertToInteractive',\n",
              "                                                     [key], {});\n",
              "          if (!dataTable) return;\n",
              "\n",
              "          const docLinkHtml = 'Like what you see? Visit the ' +\n",
              "            '<a target=\"_blank\" href=https://colab.research.google.com/notebooks/data_table.ipynb>data table notebook</a>'\n",
              "            + ' to learn more about interactive tables.';\n",
              "          element.innerHTML = '';\n",
              "          dataTable['output_type'] = 'display_data';\n",
              "          await google.colab.output.renderOutput(dataTable, element);\n",
              "          const docLink = document.createElement('div');\n",
              "          docLink.innerHTML = docLinkHtml;\n",
              "          element.appendChild(docLink);\n",
              "        }\n",
              "      </script>\n",
              "    </div>\n",
              "  </div>\n",
              "  "
            ]
          },
          "metadata": {},
          "execution_count": 71
        }
      ]
    },
    {
      "cell_type": "code",
      "source": [
        "# convert Sentiments to 0,1,2\n",
        "def convert_Sentiment(sentiment):\n",
        "    if  sentiment == 2:\n",
        "        return 'Positive'\n",
        "    elif sentiment == 1:\n",
        "        return 'Neutral'\n",
        "    elif sentiment == 0:\n",
        "        return 'Negative'"
      ],
      "metadata": {
        "id": "dcqcqToRniwz"
      },
      "execution_count": 72,
      "outputs": []
    },
    {
      "cell_type": "code",
      "source": [
        "# Apply convert_Sentiment function\n",
        "nzreview['predicted_label_name'] = nzreview.predicted_label.apply(lambda x : convert_Sentiment(x))\n",
        "nzreview.tail(100)"
      ],
      "metadata": {
        "colab": {
          "base_uri": "https://localhost:8080/",
          "height": 658
        },
        "id": "qb4mS0Eynqkk",
        "outputId": "25311c68-40d9-42e6-88e7-7e681b075a6b"
      },
      "execution_count": 73,
      "outputs": [
        {
          "output_type": "execute_result",
          "data": {
            "text/plain": [
              "      Unnamed: 0  Unnamed: 0.1       Date  \\\n",
              "4033        4033           457  8/12/2020   \n",
              "4034        4034           458  8/12/2020   \n",
              "4035        4035           459  8/12/2020   \n",
              "4036        4036           460  8/12/2020   \n",
              "4037        4037           461  8/12/2020   \n",
              "...          ...           ...        ...   \n",
              "4128        4128           553  7/21/2020   \n",
              "4129        4129           554  7/20/2020   \n",
              "4130        4130           555  7/16/2020   \n",
              "4131        4131           556  7/15/2020   \n",
              "4132        4132           557  7/15/2020   \n",
              "\n",
              "                                                Content  Rating Version  \\\n",
              "4033  Downloaded app early and easily. Not simple to...     4.0   1.2.0   \n",
              "4034  Sorry team, you need to do better if you want ...     1.0   1.2.0   \n",
              "4035  Rubbish canât even login as keyboard doesnâ...     1.0   1.2.0   \n",
              "4036  I downloaded the app, entered my email and cre...     1.0   1.2.0   \n",
              "4037  When I sign up within the app it tells me I ha...     1.0   1.2.0   \n",
              "...                                                 ...     ...     ...   \n",
              "4128  This app is excellent and very easy to use. I ...     5.0   1.1.0   \n",
              "4129  Be great if I could go and add a location if I...     4.0   1.1.0   \n",
              "4130  My App is a bit shonky no longer allows me to ...     1.0   1.1.0   \n",
              "4131  I donât know how many times Iâve tried to ...     1.0   1.1.0   \n",
              "4132  Some parts of it donât even work on the curr...     1.0   1.1.0   \n",
              "\n",
              "                                             final_text  predicted_label  \\\n",
              "4033  downloaded app early easily simple use option ...                0   \n",
              "4034  sorry team need better want people use tried s...                0   \n",
              "4035  rubbish even login keyboard pop email code sen...                0   \n",
              "4036  downloaded app entered email created long pass...                0   \n",
              "4037  sign within app tells already registered email...                0   \n",
              "...                                                 ...              ...   \n",
              "4128  app excellent easy use feel assured recording ...                2   \n",
              "4129  great could go add location forgot scan ie mor...                2   \n",
              "4130  app bit shonky longer allows update details go...                0   \n",
              "4131  know many times tried scan something says covi...                2   \n",
              "4132  parts even work current ios details address se...                0   \n",
              "\n",
              "     predicted_label_name  \n",
              "4033             Negative  \n",
              "4034             Negative  \n",
              "4035             Negative  \n",
              "4036             Negative  \n",
              "4037             Negative  \n",
              "...                   ...  \n",
              "4128             Positive  \n",
              "4129             Positive  \n",
              "4130             Negative  \n",
              "4131             Positive  \n",
              "4132             Negative  \n",
              "\n",
              "[100 rows x 9 columns]"
            ],
            "text/html": [
              "\n",
              "  <div id=\"df-46fada03-a9c8-4276-8cd5-c1db9b32a5cc\">\n",
              "    <div class=\"colab-df-container\">\n",
              "      <div>\n",
              "<style scoped>\n",
              "    .dataframe tbody tr th:only-of-type {\n",
              "        vertical-align: middle;\n",
              "    }\n",
              "\n",
              "    .dataframe tbody tr th {\n",
              "        vertical-align: top;\n",
              "    }\n",
              "\n",
              "    .dataframe thead th {\n",
              "        text-align: right;\n",
              "    }\n",
              "</style>\n",
              "<table border=\"1\" class=\"dataframe\">\n",
              "  <thead>\n",
              "    <tr style=\"text-align: right;\">\n",
              "      <th></th>\n",
              "      <th>Unnamed: 0</th>\n",
              "      <th>Unnamed: 0.1</th>\n",
              "      <th>Date</th>\n",
              "      <th>Content</th>\n",
              "      <th>Rating</th>\n",
              "      <th>Version</th>\n",
              "      <th>final_text</th>\n",
              "      <th>predicted_label</th>\n",
              "      <th>predicted_label_name</th>\n",
              "    </tr>\n",
              "  </thead>\n",
              "  <tbody>\n",
              "    <tr>\n",
              "      <th>4033</th>\n",
              "      <td>4033</td>\n",
              "      <td>457</td>\n",
              "      <td>8/12/2020</td>\n",
              "      <td>Downloaded app early and easily. Not simple to...</td>\n",
              "      <td>4.0</td>\n",
              "      <td>1.2.0</td>\n",
              "      <td>downloaded app early easily simple use option ...</td>\n",
              "      <td>0</td>\n",
              "      <td>Negative</td>\n",
              "    </tr>\n",
              "    <tr>\n",
              "      <th>4034</th>\n",
              "      <td>4034</td>\n",
              "      <td>458</td>\n",
              "      <td>8/12/2020</td>\n",
              "      <td>Sorry team, you need to do better if you want ...</td>\n",
              "      <td>1.0</td>\n",
              "      <td>1.2.0</td>\n",
              "      <td>sorry team need better want people use tried s...</td>\n",
              "      <td>0</td>\n",
              "      <td>Negative</td>\n",
              "    </tr>\n",
              "    <tr>\n",
              "      <th>4035</th>\n",
              "      <td>4035</td>\n",
              "      <td>459</td>\n",
              "      <td>8/12/2020</td>\n",
              "      <td>Rubbish canât even login as keyboard doesnâ...</td>\n",
              "      <td>1.0</td>\n",
              "      <td>1.2.0</td>\n",
              "      <td>rubbish even login keyboard pop email code sen...</td>\n",
              "      <td>0</td>\n",
              "      <td>Negative</td>\n",
              "    </tr>\n",
              "    <tr>\n",
              "      <th>4036</th>\n",
              "      <td>4036</td>\n",
              "      <td>460</td>\n",
              "      <td>8/12/2020</td>\n",
              "      <td>I downloaded the app, entered my email and cre...</td>\n",
              "      <td>1.0</td>\n",
              "      <td>1.2.0</td>\n",
              "      <td>downloaded app entered email created long pass...</td>\n",
              "      <td>0</td>\n",
              "      <td>Negative</td>\n",
              "    </tr>\n",
              "    <tr>\n",
              "      <th>4037</th>\n",
              "      <td>4037</td>\n",
              "      <td>461</td>\n",
              "      <td>8/12/2020</td>\n",
              "      <td>When I sign up within the app it tells me I ha...</td>\n",
              "      <td>1.0</td>\n",
              "      <td>1.2.0</td>\n",
              "      <td>sign within app tells already registered email...</td>\n",
              "      <td>0</td>\n",
              "      <td>Negative</td>\n",
              "    </tr>\n",
              "    <tr>\n",
              "      <th>...</th>\n",
              "      <td>...</td>\n",
              "      <td>...</td>\n",
              "      <td>...</td>\n",
              "      <td>...</td>\n",
              "      <td>...</td>\n",
              "      <td>...</td>\n",
              "      <td>...</td>\n",
              "      <td>...</td>\n",
              "      <td>...</td>\n",
              "    </tr>\n",
              "    <tr>\n",
              "      <th>4128</th>\n",
              "      <td>4128</td>\n",
              "      <td>553</td>\n",
              "      <td>7/21/2020</td>\n",
              "      <td>This app is excellent and very easy to use. I ...</td>\n",
              "      <td>5.0</td>\n",
              "      <td>1.1.0</td>\n",
              "      <td>app excellent easy use feel assured recording ...</td>\n",
              "      <td>2</td>\n",
              "      <td>Positive</td>\n",
              "    </tr>\n",
              "    <tr>\n",
              "      <th>4129</th>\n",
              "      <td>4129</td>\n",
              "      <td>554</td>\n",
              "      <td>7/20/2020</td>\n",
              "      <td>Be great if I could go and add a location if I...</td>\n",
              "      <td>4.0</td>\n",
              "      <td>1.1.0</td>\n",
              "      <td>great could go add location forgot scan ie mor...</td>\n",
              "      <td>2</td>\n",
              "      <td>Positive</td>\n",
              "    </tr>\n",
              "    <tr>\n",
              "      <th>4130</th>\n",
              "      <td>4130</td>\n",
              "      <td>555</td>\n",
              "      <td>7/16/2020</td>\n",
              "      <td>My App is a bit shonky no longer allows me to ...</td>\n",
              "      <td>1.0</td>\n",
              "      <td>1.1.0</td>\n",
              "      <td>app bit shonky longer allows update details go...</td>\n",
              "      <td>0</td>\n",
              "      <td>Negative</td>\n",
              "    </tr>\n",
              "    <tr>\n",
              "      <th>4131</th>\n",
              "      <td>4131</td>\n",
              "      <td>556</td>\n",
              "      <td>7/15/2020</td>\n",
              "      <td>I donât know how many times Iâve tried to ...</td>\n",
              "      <td>1.0</td>\n",
              "      <td>1.1.0</td>\n",
              "      <td>know many times tried scan something says covi...</td>\n",
              "      <td>2</td>\n",
              "      <td>Positive</td>\n",
              "    </tr>\n",
              "    <tr>\n",
              "      <th>4132</th>\n",
              "      <td>4132</td>\n",
              "      <td>557</td>\n",
              "      <td>7/15/2020</td>\n",
              "      <td>Some parts of it donât even work on the curr...</td>\n",
              "      <td>1.0</td>\n",
              "      <td>1.1.0</td>\n",
              "      <td>parts even work current ios details address se...</td>\n",
              "      <td>0</td>\n",
              "      <td>Negative</td>\n",
              "    </tr>\n",
              "  </tbody>\n",
              "</table>\n",
              "<p>100 rows × 9 columns</p>\n",
              "</div>\n",
              "      <button class=\"colab-df-convert\" onclick=\"convertToInteractive('df-46fada03-a9c8-4276-8cd5-c1db9b32a5cc')\"\n",
              "              title=\"Convert this dataframe to an interactive table.\"\n",
              "              style=\"display:none;\">\n",
              "        \n",
              "  <svg xmlns=\"http://www.w3.org/2000/svg\" height=\"24px\"viewBox=\"0 0 24 24\"\n",
              "       width=\"24px\">\n",
              "    <path d=\"M0 0h24v24H0V0z\" fill=\"none\"/>\n",
              "    <path d=\"M18.56 5.44l.94 2.06.94-2.06 2.06-.94-2.06-.94-.94-2.06-.94 2.06-2.06.94zm-11 1L8.5 8.5l.94-2.06 2.06-.94-2.06-.94L8.5 2.5l-.94 2.06-2.06.94zm10 10l.94 2.06.94-2.06 2.06-.94-2.06-.94-.94-2.06-.94 2.06-2.06.94z\"/><path d=\"M17.41 7.96l-1.37-1.37c-.4-.4-.92-.59-1.43-.59-.52 0-1.04.2-1.43.59L10.3 9.45l-7.72 7.72c-.78.78-.78 2.05 0 2.83L4 21.41c.39.39.9.59 1.41.59.51 0 1.02-.2 1.41-.59l7.78-7.78 2.81-2.81c.8-.78.8-2.07 0-2.86zM5.41 20L4 18.59l7.72-7.72 1.47 1.35L5.41 20z\"/>\n",
              "  </svg>\n",
              "      </button>\n",
              "      \n",
              "  <style>\n",
              "    .colab-df-container {\n",
              "      display:flex;\n",
              "      flex-wrap:wrap;\n",
              "      gap: 12px;\n",
              "    }\n",
              "\n",
              "    .colab-df-convert {\n",
              "      background-color: #E8F0FE;\n",
              "      border: none;\n",
              "      border-radius: 50%;\n",
              "      cursor: pointer;\n",
              "      display: none;\n",
              "      fill: #1967D2;\n",
              "      height: 32px;\n",
              "      padding: 0 0 0 0;\n",
              "      width: 32px;\n",
              "    }\n",
              "\n",
              "    .colab-df-convert:hover {\n",
              "      background-color: #E2EBFA;\n",
              "      box-shadow: 0px 1px 2px rgba(60, 64, 67, 0.3), 0px 1px 3px 1px rgba(60, 64, 67, 0.15);\n",
              "      fill: #174EA6;\n",
              "    }\n",
              "\n",
              "    [theme=dark] .colab-df-convert {\n",
              "      background-color: #3B4455;\n",
              "      fill: #D2E3FC;\n",
              "    }\n",
              "\n",
              "    [theme=dark] .colab-df-convert:hover {\n",
              "      background-color: #434B5C;\n",
              "      box-shadow: 0px 1px 3px 1px rgba(0, 0, 0, 0.15);\n",
              "      filter: drop-shadow(0px 1px 2px rgba(0, 0, 0, 0.3));\n",
              "      fill: #FFFFFF;\n",
              "    }\n",
              "  </style>\n",
              "\n",
              "      <script>\n",
              "        const buttonEl =\n",
              "          document.querySelector('#df-46fada03-a9c8-4276-8cd5-c1db9b32a5cc button.colab-df-convert');\n",
              "        buttonEl.style.display =\n",
              "          google.colab.kernel.accessAllowed ? 'block' : 'none';\n",
              "\n",
              "        async function convertToInteractive(key) {\n",
              "          const element = document.querySelector('#df-46fada03-a9c8-4276-8cd5-c1db9b32a5cc');\n",
              "          const dataTable =\n",
              "            await google.colab.kernel.invokeFunction('convertToInteractive',\n",
              "                                                     [key], {});\n",
              "          if (!dataTable) return;\n",
              "\n",
              "          const docLinkHtml = 'Like what you see? Visit the ' +\n",
              "            '<a target=\"_blank\" href=https://colab.research.google.com/notebooks/data_table.ipynb>data table notebook</a>'\n",
              "            + ' to learn more about interactive tables.';\n",
              "          element.innerHTML = '';\n",
              "          dataTable['output_type'] = 'display_data';\n",
              "          await google.colab.output.renderOutput(dataTable, element);\n",
              "          const docLink = document.createElement('div');\n",
              "          docLink.innerHTML = docLinkHtml;\n",
              "          element.appendChild(docLink);\n",
              "        }\n",
              "      </script>\n",
              "    </div>\n",
              "  </div>\n",
              "  "
            ]
          },
          "metadata": {},
          "execution_count": 73
        }
      ]
    },
    {
      "cell_type": "code",
      "source": [
        "nzreview['predicted_label_name'].value_counts()"
      ],
      "metadata": {
        "colab": {
          "base_uri": "https://localhost:8080/"
        },
        "id": "StbL9NKBnwsO",
        "outputId": "4cde4c5d-08c3-469e-a11c-9e825ecbcb21"
      },
      "execution_count": 74,
      "outputs": [
        {
          "output_type": "execute_result",
          "data": {
            "text/plain": [
              "Negative    2630\n",
              "Positive    1446\n",
              "Neutral       57\n",
              "Name: predicted_label_name, dtype: int64"
            ]
          },
          "metadata": {},
          "execution_count": 74
        }
      ]
    },
    {
      "cell_type": "code",
      "source": [
        "# convert ratings to positive, negative, neutral\n",
        "def convert_Rating(Rating):\n",
        "    if  Rating == 5 :    \n",
        "        return 'Positive'\n",
        "    if  Rating == 4 :    \n",
        "        return 'Positive'\n",
        "    elif Rating ==  3 :\n",
        "        return 'Neutral'\n",
        "    elif Rating == 2 :\n",
        "        return 'Negative'\n",
        "    elif Rating == 1 :\n",
        "        return 'Negative'\n",
        "\n",
        "# Apply convert_Sentiment function\n",
        "nzreview['Rating_converted']= nzreview.Rating.apply(lambda x : convert_Rating(x))\n",
        "nzreview.head()"
      ],
      "metadata": {
        "colab": {
          "base_uri": "https://localhost:8080/",
          "height": 389
        },
        "id": "fK6Y3uqG7tzF",
        "outputId": "953359c6-e77d-4f0b-e06d-8ecc39c981c6"
      },
      "execution_count": 75,
      "outputs": [
        {
          "output_type": "execute_result",
          "data": {
            "text/plain": [
              "   Unnamed: 0  Unnamed: 0.1       Date  \\\n",
              "0           0             0  1/10/2022   \n",
              "1           1             1  1/10/2022   \n",
              "2           2             2  1/10/2022   \n",
              "3           3             3  1/10/2022   \n",
              "4           4             4  1/10/2022   \n",
              "\n",
              "                                             Content  Rating Version  \\\n",
              "0                                      Waste of time     1.0   6.0.0   \n",
              "1          Won't let me update or scan most QR codes     1.0   6.0.0   \n",
              "2                             Does what is expected.     5.0   6.1.0   \n",
              "3  App is super helpful and anyone that says othe...     5.0   6.1.0   \n",
              "4  It's ok. The only thing I find annoying is it ...     4.0   6.1.0   \n",
              "\n",
              "                                          final_text  predicted_label  \\\n",
              "0                                         waste time                0   \n",
              "1                        wo let update scan qr codes                0   \n",
              "2                                           expected                2   \n",
              "3  app super helpful anyone says otherwise little...                2   \n",
              "4  ok thing find annoying keep record places defi...                0   \n",
              "\n",
              "  predicted_label_name Rating_converted  \n",
              "0             Negative         Negative  \n",
              "1             Negative         Negative  \n",
              "2             Positive         Positive  \n",
              "3             Positive         Positive  \n",
              "4             Negative         Positive  "
            ],
            "text/html": [
              "\n",
              "  <div id=\"df-34054665-db7c-449e-a214-57efa627f138\">\n",
              "    <div class=\"colab-df-container\">\n",
              "      <div>\n",
              "<style scoped>\n",
              "    .dataframe tbody tr th:only-of-type {\n",
              "        vertical-align: middle;\n",
              "    }\n",
              "\n",
              "    .dataframe tbody tr th {\n",
              "        vertical-align: top;\n",
              "    }\n",
              "\n",
              "    .dataframe thead th {\n",
              "        text-align: right;\n",
              "    }\n",
              "</style>\n",
              "<table border=\"1\" class=\"dataframe\">\n",
              "  <thead>\n",
              "    <tr style=\"text-align: right;\">\n",
              "      <th></th>\n",
              "      <th>Unnamed: 0</th>\n",
              "      <th>Unnamed: 0.1</th>\n",
              "      <th>Date</th>\n",
              "      <th>Content</th>\n",
              "      <th>Rating</th>\n",
              "      <th>Version</th>\n",
              "      <th>final_text</th>\n",
              "      <th>predicted_label</th>\n",
              "      <th>predicted_label_name</th>\n",
              "      <th>Rating_converted</th>\n",
              "    </tr>\n",
              "  </thead>\n",
              "  <tbody>\n",
              "    <tr>\n",
              "      <th>0</th>\n",
              "      <td>0</td>\n",
              "      <td>0</td>\n",
              "      <td>1/10/2022</td>\n",
              "      <td>Waste of time</td>\n",
              "      <td>1.0</td>\n",
              "      <td>6.0.0</td>\n",
              "      <td>waste time</td>\n",
              "      <td>0</td>\n",
              "      <td>Negative</td>\n",
              "      <td>Negative</td>\n",
              "    </tr>\n",
              "    <tr>\n",
              "      <th>1</th>\n",
              "      <td>1</td>\n",
              "      <td>1</td>\n",
              "      <td>1/10/2022</td>\n",
              "      <td>Won't let me update or scan most QR codes</td>\n",
              "      <td>1.0</td>\n",
              "      <td>6.0.0</td>\n",
              "      <td>wo let update scan qr codes</td>\n",
              "      <td>0</td>\n",
              "      <td>Negative</td>\n",
              "      <td>Negative</td>\n",
              "    </tr>\n",
              "    <tr>\n",
              "      <th>2</th>\n",
              "      <td>2</td>\n",
              "      <td>2</td>\n",
              "      <td>1/10/2022</td>\n",
              "      <td>Does what is expected.</td>\n",
              "      <td>5.0</td>\n",
              "      <td>6.1.0</td>\n",
              "      <td>expected</td>\n",
              "      <td>2</td>\n",
              "      <td>Positive</td>\n",
              "      <td>Positive</td>\n",
              "    </tr>\n",
              "    <tr>\n",
              "      <th>3</th>\n",
              "      <td>3</td>\n",
              "      <td>3</td>\n",
              "      <td>1/10/2022</td>\n",
              "      <td>App is super helpful and anyone that says othe...</td>\n",
              "      <td>5.0</td>\n",
              "      <td>6.1.0</td>\n",
              "      <td>app super helpful anyone says otherwise little...</td>\n",
              "      <td>2</td>\n",
              "      <td>Positive</td>\n",
              "      <td>Positive</td>\n",
              "    </tr>\n",
              "    <tr>\n",
              "      <th>4</th>\n",
              "      <td>4</td>\n",
              "      <td>4</td>\n",
              "      <td>1/10/2022</td>\n",
              "      <td>It's ok. The only thing I find annoying is it ...</td>\n",
              "      <td>4.0</td>\n",
              "      <td>6.1.0</td>\n",
              "      <td>ok thing find annoying keep record places defi...</td>\n",
              "      <td>0</td>\n",
              "      <td>Negative</td>\n",
              "      <td>Positive</td>\n",
              "    </tr>\n",
              "  </tbody>\n",
              "</table>\n",
              "</div>\n",
              "      <button class=\"colab-df-convert\" onclick=\"convertToInteractive('df-34054665-db7c-449e-a214-57efa627f138')\"\n",
              "              title=\"Convert this dataframe to an interactive table.\"\n",
              "              style=\"display:none;\">\n",
              "        \n",
              "  <svg xmlns=\"http://www.w3.org/2000/svg\" height=\"24px\"viewBox=\"0 0 24 24\"\n",
              "       width=\"24px\">\n",
              "    <path d=\"M0 0h24v24H0V0z\" fill=\"none\"/>\n",
              "    <path d=\"M18.56 5.44l.94 2.06.94-2.06 2.06-.94-2.06-.94-.94-2.06-.94 2.06-2.06.94zm-11 1L8.5 8.5l.94-2.06 2.06-.94-2.06-.94L8.5 2.5l-.94 2.06-2.06.94zm10 10l.94 2.06.94-2.06 2.06-.94-2.06-.94-.94-2.06-.94 2.06-2.06.94z\"/><path d=\"M17.41 7.96l-1.37-1.37c-.4-.4-.92-.59-1.43-.59-.52 0-1.04.2-1.43.59L10.3 9.45l-7.72 7.72c-.78.78-.78 2.05 0 2.83L4 21.41c.39.39.9.59 1.41.59.51 0 1.02-.2 1.41-.59l7.78-7.78 2.81-2.81c.8-.78.8-2.07 0-2.86zM5.41 20L4 18.59l7.72-7.72 1.47 1.35L5.41 20z\"/>\n",
              "  </svg>\n",
              "      </button>\n",
              "      \n",
              "  <style>\n",
              "    .colab-df-container {\n",
              "      display:flex;\n",
              "      flex-wrap:wrap;\n",
              "      gap: 12px;\n",
              "    }\n",
              "\n",
              "    .colab-df-convert {\n",
              "      background-color: #E8F0FE;\n",
              "      border: none;\n",
              "      border-radius: 50%;\n",
              "      cursor: pointer;\n",
              "      display: none;\n",
              "      fill: #1967D2;\n",
              "      height: 32px;\n",
              "      padding: 0 0 0 0;\n",
              "      width: 32px;\n",
              "    }\n",
              "\n",
              "    .colab-df-convert:hover {\n",
              "      background-color: #E2EBFA;\n",
              "      box-shadow: 0px 1px 2px rgba(60, 64, 67, 0.3), 0px 1px 3px 1px rgba(60, 64, 67, 0.15);\n",
              "      fill: #174EA6;\n",
              "    }\n",
              "\n",
              "    [theme=dark] .colab-df-convert {\n",
              "      background-color: #3B4455;\n",
              "      fill: #D2E3FC;\n",
              "    }\n",
              "\n",
              "    [theme=dark] .colab-df-convert:hover {\n",
              "      background-color: #434B5C;\n",
              "      box-shadow: 0px 1px 3px 1px rgba(0, 0, 0, 0.15);\n",
              "      filter: drop-shadow(0px 1px 2px rgba(0, 0, 0, 0.3));\n",
              "      fill: #FFFFFF;\n",
              "    }\n",
              "  </style>\n",
              "\n",
              "      <script>\n",
              "        const buttonEl =\n",
              "          document.querySelector('#df-34054665-db7c-449e-a214-57efa627f138 button.colab-df-convert');\n",
              "        buttonEl.style.display =\n",
              "          google.colab.kernel.accessAllowed ? 'block' : 'none';\n",
              "\n",
              "        async function convertToInteractive(key) {\n",
              "          const element = document.querySelector('#df-34054665-db7c-449e-a214-57efa627f138');\n",
              "          const dataTable =\n",
              "            await google.colab.kernel.invokeFunction('convertToInteractive',\n",
              "                                                     [key], {});\n",
              "          if (!dataTable) return;\n",
              "\n",
              "          const docLinkHtml = 'Like what you see? Visit the ' +\n",
              "            '<a target=\"_blank\" href=https://colab.research.google.com/notebooks/data_table.ipynb>data table notebook</a>'\n",
              "            + ' to learn more about interactive tables.';\n",
              "          element.innerHTML = '';\n",
              "          dataTable['output_type'] = 'display_data';\n",
              "          await google.colab.output.renderOutput(dataTable, element);\n",
              "          const docLink = document.createElement('div');\n",
              "          docLink.innerHTML = docLinkHtml;\n",
              "          element.appendChild(docLink);\n",
              "        }\n",
              "      </script>\n",
              "    </div>\n",
              "  </div>\n",
              "  "
            ]
          },
          "metadata": {},
          "execution_count": 75
        }
      ]
    },
    {
      "cell_type": "code",
      "source": [
        "nzreview['check'] = np.where(nzreview[\"predicted_label_name\"] == nzreview[\"Rating_converted\"], True, False)"
      ],
      "metadata": {
        "id": "Nw2CrMD-8Qcu"
      },
      "execution_count": 76,
      "outputs": []
    },
    {
      "cell_type": "code",
      "source": [
        "nzreview['check'].value_counts()"
      ],
      "metadata": {
        "colab": {
          "base_uri": "https://localhost:8080/"
        },
        "id": "4M_bN8qW8Ifm",
        "outputId": "e7523fc0-61dd-4510-f233-ea4c53dbb630"
      },
      "execution_count": 77,
      "outputs": [
        {
          "output_type": "execute_result",
          "data": {
            "text/plain": [
              "True     2845\n",
              "False    1288\n",
              "Name: check, dtype: int64"
            ]
          },
          "metadata": {},
          "execution_count": 77
        }
      ]
    },
    {
      "cell_type": "code",
      "source": [
        "nzreview['check'].value_counts(normalize=True)"
      ],
      "metadata": {
        "colab": {
          "base_uri": "https://localhost:8080/"
        },
        "id": "ORtIug2O84TI",
        "outputId": "09edb249-326c-46af-acf5-4f4dca90a7c9"
      },
      "execution_count": 78,
      "outputs": [
        {
          "output_type": "execute_result",
          "data": {
            "text/plain": [
              "True     0.688362\n",
              "False    0.311638\n",
              "Name: check, dtype: float64"
            ]
          },
          "metadata": {},
          "execution_count": 78
        }
      ]
    },
    {
      "cell_type": "code",
      "source": [
        "#nzreview.to_csv('/content/drive/MyDrive/NZ data/nzpredicted_DL.csv')\n",
        "nzreview.to_csv('/content/nzpredicted_DL2.csv')"
      ],
      "metadata": {
        "id": "Tey65D98n2ci"
      },
      "execution_count": 79,
      "outputs": []
    },
    {
      "cell_type": "code",
      "source": [
        ""
      ],
      "metadata": {
        "id": "SkTgNjmQoF3V"
      },
      "execution_count": 79,
      "outputs": []
    }
  ]
}